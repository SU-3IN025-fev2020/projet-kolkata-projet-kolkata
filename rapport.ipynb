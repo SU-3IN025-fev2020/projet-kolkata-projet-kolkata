{
 "cells": [
  {
   "cell_type": "markdown",
   "metadata": {},
   "source": [
    "# <div align=\"center\">projet-ia-jeux2020</div>"
   ]
  },
  {
   "cell_type": "markdown",
   "metadata": {},
   "source": [
    "## Présentation générale du problème\n",
    "Le projet s'inspire du Kolkata Paise Restaurant Problem, une variante du problème de minorité du [bar El Farol](https://en.wikipedia.org/wiki/El_Farol_Bar_problem).\n",
    "\n",
    "Plusieurs joueurs (*n*), qui habitent dans le même quartier, souhaitent se rendre dans un des *k* restaurants du quartier. Une fois leur choix effectué, ces derniers se rendent dans le restaurant choisi.\n",
    "La règle est alors la suivante :\n",
    "* si un joueur est seul dans un restaurant, un plat lui est servi (gain = 1)\n",
    "* si plusieurs joueurs se trouvent dans un même restaurant, un joueur est choisi au hasard (de manière uniforme parmi tous les joueurs présents dans ce restaurant), et est servi (gain = 1). Les autres joueurs ne sont pas servis (gain = 0).\n",
    "Le jeu se déroule sur plusieurs itérations (*m* itérations, fixé à l'avance)."
   ]
  },
  {
   "cell_type": "markdown",
   "metadata": {},
   "source": [
    "## Réalisation attendue\n",
    "\n",
    "### Une partie avec des stratégies de base\n",
    "Nous avons codé les stratégies dans le fichier <b>strat.py</b>. Chaque stratégies sont les filles d'une classe mère, les personnages héritent de la classe <b>Strat</b> et les restaurants héritent de <b>StratRestau</b>.\n",
    "\n",
    "Les stratégies des personnages sont les suivantes :\n",
    "* StratAlea                 : choisit un restaurant aléatoire à chaque service.\n",
    "* StratTetu                 : choisit un restaurant aléatoire puis y reste jusqu'à la fin des services.\n",
    "* StratMoinsRempli          : choisit le restaurant le moins remplit au service précédent.\n",
    "* StratRestauPlusProche     : choisit le restaurant le plus proche à chaque service.\n",
    "\n",
    "Les stratégies des resaurants sont les suivantes :\n",
    "* StratRestauUnClient       : donne un seul point à un client à chaque service.\n",
    "* StratRestauDeuxClientMini : donne un seul point à un client à chaque service si il y a au moins deux clients dans le restaurant.\n",
    "* StratRestauRobinDesBois   : récupère les points du client qui possède le score le plus haut dans le restaurant afin de les répartir aux autres clients.\n"
   ]
  },
  {
   "cell_type": "markdown",
   "metadata": {},
   "source": [
    "### Expérimentations\n",
    "\n",
    "Pour tester nos stratégies, nous avons commencé par les exécuter sans faire de découpage de fonction. Nous avons donc créé <b>tournoi.py</b> contenant deux fonctions :\n",
    "* tournoi(strat, iterations, game) : permet le lancement d'un tournoi entre chaque stratégie en un contre un stocké dans la liste <i>strat</i> avec une variable nomée <i>interations</i> représentant le nombre itérations dans le terrain d'objet <i>game</i>.\n",
    "* battle_royal(iterations, posPlayers, list_goal, game, strat, affichage=True) : permet le lancement d'un tournoi avec toutes les stratégies exécuté en même temps. Nous stockons les stratégies dans la liste <i>strat</i> avec un nombre <i>interations</i> d'itérations ainsi que la liste des restaurants <i>list_goal</i> dans le terrain d'objet <i>game</i>."
   ]
  },
  {
   "cell_type": "markdown",
   "metadata": {},
   "source": [
    "### AStar\n",
    "Pour le déplacement des personnages, nous avons conçu un algorithme de type a-star (ou A*, algorithme de recherche de chemin) dans le fichier <b>strat.py</b> à l'aide de la classe Etat.\n",
    "\n",
    "Création d'une classe Etat :\n",
    "* attributs :\n",
    "    * visite : dictionnaire permettant de sauvegarder les positions déjà visitées.\n",
    "    * frontiere : liste qui contient les positions accessible depuis la position courante.\n",
    "    * x_max : limite en abscisse du terrain.\n",
    "    * y_max : limite en ordonnée du terrain.\n",
    "    * wallStates : liste des positions des murs sur le terrain.<br/><br/>\n",
    "\n",
    "\n",
    "\n",
    "* init initie les variables suivantes :\n",
    "    * parent : précédente position du client.\n",
    "    * pos : position actuelle du client.\n",
    "    * g : nombre de pas effectué par le personnage.\n",
    "    * goal : position que le client doit atteindre.\n",
    "    * pos_depart : position de départ du client.<br/><br/>\n",
    "\n",
    "* reset() : réinitialise le dictionnaire *visite* et la liste *frontiere*.\n",
    "* H(self) : calcule la distance de manhattan.\n",
    "* cost(self) : calcule le coût de la case (distance de manhattan + g).\n",
    "* ajout(self) : ajoute la case afin que la frontiere permet d'être toujours trié suivant le coût des cases.\n",
    "* chemin(slef, p, chemin) : renvoie la liste de cases pour atteindre le but.\n",
    "* evaluer(self) : retourne le chemin par astar.\n"
   ]
  },
  {
   "cell_type": "markdown",
   "metadata": {},
   "source": [
    "### Tools\n",
    "Pour simplier plusieurs action, nous avons implémenté trois fonctions dans <b>tools.py</b> :\n",
    "* gain(posPlayers, liste_gain, pos_res) : calcule le gain des joueurs <i>posPlayers</i>, l'ajoute dans la liste <i>liste_gain</i> par rapport au postion des restaurants <i>pos_res</i>.\n",
    "* fini                                  : permet de signaler si tout les clients ont pu rejoindre leurs restaurants respectifs.\n",
    "* strategie                             : mise en place des stratégies sur les restaurants."
   ]
  },
  {
   "cell_type": "markdown",
   "metadata": {},
   "source": [
    "### Resultats\n"
   ]
  },
  {
   "cell_type": "markdown",
   "metadata": {},
   "source": [
    "Voici le resultat de 200 tests de nos stratégies par des tournois de 20 services. Le graphique de gauche représente le classement moyen par rapport au stragégie, et celui de droite représente le score moyen de chaque tournoi."
   ]
  },
  {
   "cell_type": "markdown",
   "metadata": {},
   "source": [
    "![40% center](data/Figure_final.png)"
   ]
  },
  {
   "cell_type": "markdown",
   "metadata": {},
   "source": [
    "Nous pouvons remarquer un écart entre la stratégie \"Restaurant le plus proche\" et le reste, permettant de constater l'éfficacité de cette stratégie.\n",
    "En effet, nous observons 400 points d'écarts entre la stratégie \"Restaurant le plus proche\" et les autres stratégies. Nous obtenons ensuite les startégies \"Têtu\" et \"Aléatoire\" qui sont assez proches en terme de points et de classement. Seul un écart d'une dizaine de points les séparent. Et enfin la stratégie la moins efficace est la \"Moins rempli\". L'écart de point entre cette dernière et les autres stratégies est très important. En effet elle a obtenue un score moyen 3 fois moins élevé que \"Têtu\"et \"Aléatoire\" et 4 fois moins que \"Restaurant le plus proche\". Cette stratégie n'a jamais remporté de tournoi."
   ]
  },
  {
   "cell_type": "markdown",
   "metadata": {},
   "source": [
    "Comment expliquer ces résultats ? \n",
    "Pour commencer, la stratégie \"Moins rempli\" est la moins efficace car tout les clients de cette stratégie vont se diriger vers le même retaurant. Cela ne fait donc prendre aucun point aux clients présent le restaurant. De plus cela permet aux autres restaurants d'être moins remplis et donc d'être plus rentable pour les autres stratégies. Les stratégies têtues et aléatoires sont assez ressemblantes. Dans l'une, les clients vont rester dans le même restaurant tout le long du tournoi, tandis que dans l'autre, à chaque itérations, les clients iront dans un restaurant aléatoirement. Dans les deux cas, il y a la même condition aléatoire car les clients de la stratégie \"Têtu\" choisissent le restaurant aléatoirement au début du tournoi. \n",
    "Le fait que \"Restaurant le plus proche\" obtient le meilleur score est assez étonnant. Nous supposons que les stratégies \"Têtu\", \"Aléatoire\" et \"Restaurant le plus proche\" possèderaient un nombre de points similaires, ce qui est le cas pour \"Têtu\" et \"Aléatoire\". Cette différence de points peut s'expliquer: en effet, la stratégie \"Restaurant le plus proche\" est plus flexible que \"Têtu\" et moins aléatoire que \"Aléatoire\"."
   ]
  },
  {
   "cell_type": "markdown",
   "metadata": {},
   "source": [
    "<div align=\"center\">Foltyn Axel 3700260<br/>\n",
    "Bouibker Oussama 3670492<br/>\n",
    "Collas Julien 3679582</div>"
   ]
  }
 ],
 "metadata": {
  "kernelspec": {
   "display_name": "Python 3",
   "language": "python",
   "name": "python3"
  },
  "language_info": {
   "codemirror_mode": {
    "name": "ipython",
    "version": 3
   },
   "file_extension": ".py",
   "mimetype": "text/x-python",
   "name": "python",
   "nbconvert_exporter": "python",
   "pygments_lexer": "ipython3",
   "version": "3.7.6"
  }
 },
 "nbformat": 4,
 "nbformat_minor": 4
}
